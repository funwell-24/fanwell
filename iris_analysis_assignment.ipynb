{
 "cells": [
  {
   "cell_type": "markdown",
   "id": "a5677695",
   "metadata": {},
   "source": [
    "\n",
    "# Iris Data Analysis with Pandas & Matplotlib\n",
    "\n",
    "This notebook explores the famous Iris dataset using **Pandas** for data analysis and **Matplotlib** for visualization.\n",
    "\n",
    "> I tried to follow the steps given in the assignment, adding some personal notes along the way.\n"
   ]
  },
  {
   "cell_type": "code",
   "execution_count": null,
   "id": "7a37916b",
   "metadata": {},
   "outputs": [],
   "source": [
    "\n",
    "import pandas as pd\n",
    "import matplotlib.pyplot as plt\n",
    "import seaborn as sns\n",
    "from sklearn import datasets\n",
    "\n",
    "# I decided to use seaborn style because it makes plots look nicer\n",
    "sns.set(style=\"whitegrid\")\n",
    "\n",
    "# Load Iris dataset\n",
    "iris = datasets.load_iris()\n",
    "df = pd.DataFrame(data=iris.data, columns=iris.feature_names)\n",
    "df['species'] = pd.Categorical.from_codes(iris.target, iris.target_names)\n",
    "\n",
    "# Just to see what the data looks like\n",
    "df.head()\n"
   ]
  },
  {
   "cell_type": "code",
   "execution_count": null,
   "id": "7d7227dc",
   "metadata": {},
   "outputs": [],
   "source": [
    "\n",
    "# Checking info about the dataset\n",
    "df.info()\n",
    "\n",
    "# Check missing values\n",
    "df.isnull().sum()\n"
   ]
  },
  {
   "cell_type": "code",
   "execution_count": null,
   "id": "e9356cf6",
   "metadata": {},
   "outputs": [],
   "source": [
    "\n",
    "# Quick statistics\n",
    "df.describe()\n",
    "\n",
    "# Group by species and calculate mean for each numeric column\n",
    "df.groupby('species').mean()\n"
   ]
  },
  {
   "cell_type": "markdown",
   "id": "8ad4d577",
   "metadata": {},
   "source": [
    "\n",
    "From the grouping above, I can see that:\n",
    "- *setosa* has generally smaller petal sizes.\n",
    "- *virginica* tends to have the largest petals.\n",
    "- *versicolor* is usually in between.\n"
   ]
  },
  {
   "cell_type": "code",
   "execution_count": null,
   "id": "e00fdd43",
   "metadata": {},
   "outputs": [],
   "source": [
    "\n",
    "# 1. Line chart - just cumulative petal length for fun\n",
    "plt.figure(figsize=(8,4))\n",
    "plt.plot(df['petal length (cm)'].cumsum(), label=\"Cumulative Petal Length\")\n",
    "plt.title(\"Line Chart - Cumulative Petal Length\")\n",
    "plt.xlabel(\"Index\")\n",
    "plt.ylabel(\"Cumulative Length (cm)\")\n",
    "plt.legend()\n",
    "plt.show()\n",
    "\n",
    "# 2. Bar chart - average petal length per species\n",
    "df.groupby('species')['petal length (cm)'].mean().plot(kind='bar', color=['#ff9999','#66b3ff','#99ff99'])\n",
    "plt.title(\"Average Petal Length per Species\")\n",
    "plt.ylabel(\"Petal Length (cm)\")\n",
    "plt.show()\n",
    "\n",
    "# 3. Histogram - sepal width distribution\n",
    "plt.hist(df['sepal width (cm)'], bins=15, color='#66b3ff', edgecolor='black')\n",
    "plt.title(\"Histogram - Sepal Width Distribution\")\n",
    "plt.xlabel(\"Sepal Width (cm)\")\n",
    "plt.ylabel(\"Frequency\")\n",
    "plt.show()\n",
    "\n",
    "# 4. Scatter plot - sepal length vs petal length\n",
    "sns.scatterplot(data=df, x='sepal length (cm)', y='petal length (cm)', hue='species', palette='Set1')\n",
    "plt.title(\"Scatter Plot - Sepal vs Petal Length\")\n",
    "plt.show()\n"
   ]
  },
  {
   "cell_type": "markdown",
   "id": "47c8cab8",
   "metadata": {},
   "source": [
    "\n",
    "## Conclusion\n",
    "This was a simple but interesting analysis.  \n",
    "From the scatter plot, it's clear that the three species are quite separable based on petal and sepal measurements.\n",
    "\n",
    "I also realized that **virginica** usually has the largest petals, while **setosa** has the smallest.\n"
   ]
  }
 ],
 "metadata": {},
 "nbformat": 4,
 "nbformat_minor": 5
}
